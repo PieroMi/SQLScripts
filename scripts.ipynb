{
 "cells": [
  {
   "cell_type": "code",
   "execution_count": null,
   "id": "4ec08923",
   "metadata": {},
   "outputs": [],
   "source": [
    "import sys"
   ]
  },
  {
   "cell_type": "code",
   "execution_count": null,
   "id": "ceec9d6e",
   "metadata": {},
   "outputs": [],
   "source": [
    "!\"{sys.executable}\" -m pip install fpdf -q"
   ]
  },
  {
   "cell_type": "code",
   "execution_count": null,
   "id": "6a72a996",
   "metadata": {},
   "outputs": [],
   "source": [
    "!\"{sys.executable}\" -m pip install kaleido -q"
   ]
  },
  {
   "cell_type": "code",
   "execution_count": null,
   "id": "5d9e52a0",
   "metadata": {},
   "outputs": [],
   "source": [
    "from pathlib import Path\n",
    "import sqlite3\n",
    "\n",
    "import pandas as pd\n",
    "import plotly.express as px\n",
    "from fpdf import FPDF"
   ]
  },
  {
   "cell_type": "code",
   "execution_count": null,
   "id": "49fcc490",
   "metadata": {},
   "outputs": [],
   "source": [
    "plotly_template = \"presentation\""
   ]
  },
  {
   "cell_type": "code",
   "execution_count": null,
   "id": "b8153912",
   "metadata": {},
   "outputs": [],
   "source": [
    "current_dir = Path(__file__).parent if \"__file__\" in locals() else Path.cwd()\n",
    "database_path = current_dir / \"March_Monthly_Sales.db\"\n",
    "output_dir = current_dir / \"output_march\"\n",
    "\n",
    "\n",
    "# Creating the output directory and its parent dir if they don't exist\n",
    "output_dir.mkdir(parents=True, exist_ok=True)"
   ]
  },
  {
   "cell_type": "code",
   "execution_count": null,
   "id": "a0466e08",
   "metadata": {},
   "outputs": [],
   "source": [
    "# Creaintg the connection to the database\n",
    "conn = sqlite3.connect(database_path)"
   ]
  },
  {
   "cell_type": "code",
   "execution_count": null,
   "id": "3761b1f5",
   "metadata": {},
   "outputs": [],
   "source": [
    "# Executing the query and will load the results to a pandas dataframe\n",
    "query = '''\n",
    "SELECT product_name, SUM(total_price) as total_sales\n",
    "FROM sales\n",
    "GROUP BY product_name\n",
    "ORDER BY total_sales DESC\n",
    "LIMIT 10\n",
    "'''\n",
    "\n",
    "df = pd.read_sql_query(query, conn)"
   ]
  },
  {
   "cell_type": "code",
   "execution_count": null,
   "id": "fabfc9d3",
   "metadata": {},
   "outputs": [],
   "source": [
    "print(df)"
   ]
  },
  {
   "cell_type": "code",
   "execution_count": null,
   "id": "dc7e502a",
   "metadata": {},
   "outputs": [],
   "source": [
    "fig = px.bar(df.head(10),\n",
    "            x = 'product_name',\n",
    "            y = 'total_sales',\n",
    "            template=plotly_template,\n",
    "            text = 'total_sales')\n",
    "\n",
    "fig.update_layout(\n",
    "    title='Top 10 Ventas del Mes',\n",
    "    xaxis_title=\"Productos\",\n",
    "    yaxis_title=\"Ventas Total ($)\",\n",
    "    margin=dict(t=55, l=95, r=200, b=150),\n",
    "    barmode='group',\n",
    "    yaxis_tickprefix='$',\n",
    ")\n",
    "\n",
    "\n",
    "fig.show()\n",
    "\n",
    "fig.write_image(output_dir / 'monthly_sales.png',\n",
    "                width = 1200,\n",
    "                height = 800,\n",
    "                scale = 4)"
   ]
  },
  {
   "cell_type": "code",
   "execution_count": null,
   "id": "f71484ac",
   "metadata": {},
   "outputs": [],
   "source": [
    "comparing_dir = Path(__file__).parent if \"__file__\" in locals() else Path.cwd()\n",
    "comparing_path = comparing_dir / \"Comparing.db\"\n",
    "comparing_output_dir = comparing_dir / \"output_march\"\n",
    "\n",
    "comparing_output_dir.mkdir(parents=True, exist_ok=True)"
   ]
  },
  {
   "cell_type": "code",
   "execution_count": null,
   "id": "b1f2e122",
   "metadata": {},
   "outputs": [],
   "source": [
    "conn = sqlite3.connect(comparing_path)"
   ]
  },
  {
   "cell_type": "code",
   "execution_count": null,
   "id": "1d1f91fc",
   "metadata": {},
   "outputs": [],
   "source": [
    "import numpy as np\n",
    "import matplotlib.pyplot as plt\n",
    "\n",
    "# Sample data\n",
    "wine_sales = [1539, 1189]\n",
    "pizza_sales = [6732, 6659]\n",
    "drink_sales = [1209, 1247]\n",
    "\n",
    "# Setting the positions and width for the bars\n",
    "pos = np.arange(3)\n",
    "width = 0.3\n",
    "\n",
    "fig, ax = plt.subplots()\n",
    "\n",
    "# Create the bars for 2022 sales\n",
    "bars_2022 = ax.bar(pos, [wine_sales[0], pizza_sales[0], drink_sales[0]], width, color='blue', label='2022')\n",
    "\n",
    "# Create the bars for 2023 sales\n",
    "bars_2023 = ax.bar(pos+width, [wine_sales[1], pizza_sales[1], drink_sales[1]], width, color='red', label='2023')\n",
    "\n",
    "#The labels on the side of each bar\n",
    "ax.bar_label(bars_2022, labels=[f'{v:,}' for v in [1346, 7208, 1327]], label_type='center', color='white', fontsize=10, fontweight='bold', padding=8)\n",
    "ax.bar_label(bars_2023, labels=[f'{v:,}' for v in [1283, 7112, 1276]], label_type='center', color='white', fontsize=10, fontweight='bold', padding=8)\n",
    "\n",
    "#y-axis label and legend\n",
    "ax.set_ylabel('Ventas')\n",
    "ax.legend(loc='upper left')\n",
    "\n",
    "#x-axis labels and tick marks\n",
    "ax.set_xticks(pos+width/2)\n",
    "ax.set_xticklabels(['Vino', 'Pizza', 'Bebidas'])\n",
    "\n",
    "plt.title('Ventas de Productos en Comparacion 2022 & 2023')\n",
    "\n",
    "plt.show()\n",
    "\n",
    "fig.savefig(comparing_output_dir / 'Comparing.png', dpi=200, bbox_inches='tight')"
   ]
  },
  {
   "cell_type": "code",
   "execution_count": null,
   "id": "f5f807c5",
   "metadata": {},
   "outputs": [],
   "source": [
    "drinks_dir = Path(__file__).parent if \"__file__\" in locals() else Path.cwd()\n",
    "drinks_path = drinks_dir / \"March_Drinks_Monthly_Sales.db\"\n",
    "drinks_output_dir = drinks_dir / \"output_march\"\n",
    "\n",
    "drinks_output_dir.mkdir(parents=True, exist_ok=True)"
   ]
  },
  {
   "cell_type": "code",
   "execution_count": null,
   "id": "b59894f2",
   "metadata": {},
   "outputs": [],
   "source": [
    "conn = sqlite3.connect(drinks_path)"
   ]
  },
  {
   "cell_type": "code",
   "execution_count": null,
   "id": "8666e02f",
   "metadata": {},
   "outputs": [],
   "source": [
    "drinks_query = '''\n",
    "SELECT product_name, SUM(total_price) as total_sales\n",
    "FROM sales\n",
    "GROUP BY product_name\n",
    "ORDER BY total_sales DESC\n",
    "LIMIT 10\n",
    "'''\n",
    "\n",
    "drinks_df = pd.read_sql_query(drinks_query, conn)"
   ]
  },
  {
   "cell_type": "code",
   "execution_count": null,
   "id": "1250e1ae",
   "metadata": {},
   "outputs": [],
   "source": [
    "print(drinks_df)"
   ]
  },
  {
   "cell_type": "code",
   "execution_count": null,
   "id": "38f8d8ed",
   "metadata": {},
   "outputs": [],
   "source": [
    "fig = px.bar(drinks_df,\n",
    "            x = 'product_name',\n",
    "            y = 'total_sales',\n",
    "            template=plotly_template,\n",
    "            text = 'total_sales')\n",
    "\n",
    "fig.update_layout(\n",
    "    title='Top 10 Ventas de Bebidas Del Mes',\n",
    "    xaxis_title=\"Productos\",\n",
    "    yaxis_title=\"Ventas total ($)\",\n",
    "    margin=dict(t=55, l=95, r=200, b=150),\n",
    "    barmode='group',\n",
    "    yaxis_tickprefix='$',\n",
    ")\n",
    "\n",
    "fig.update_traces(marker_color='#71B280')\n",
    "\n",
    "fig.show()\n",
    "\n",
    "fig.write_image(drinks_output_dir / 'Drinks_Monthly_Sales.png',\n",
    "               width=1200,\n",
    "               height=800,\n",
    "               scale=4)"
   ]
  },
  {
   "cell_type": "code",
   "execution_count": null,
   "id": "3c2baf03",
   "metadata": {},
   "outputs": [],
   "source": [
    "wines_dir = Path(__file__).parent if \"__file__\" in locals() else Path.cwd()\n",
    "wines_path = drinks_dir / \"March_Wines_Monthly_Sales.db\"\n",
    "wines_output_dir = drinks_dir / \"output_march\"\n",
    "\n",
    "wines_output_dir.mkdir(parents=True, exist_ok=True)"
   ]
  },
  {
   "cell_type": "code",
   "execution_count": null,
   "id": "7651dce7",
   "metadata": {},
   "outputs": [],
   "source": [
    "conn = sqlite3.connect(wines_path)"
   ]
  },
  {
   "cell_type": "code",
   "execution_count": null,
   "id": "56aef424",
   "metadata": {},
   "outputs": [],
   "source": [
    "import plotly.graph_objects as go"
   ]
  },
  {
   "cell_type": "code",
   "execution_count": null,
   "id": "2a3fef6c",
   "metadata": {},
   "outputs": [],
   "source": [
    "wines_query = '''\n",
    "SELECT product_name, SUM(total_price) as total_sales, SUM(quantity) as quantity_sold\n",
    "FROM sales\n",
    "GROUP BY product_name\n",
    "ORDER BY total_sales DESC\n",
    "LIMIT 10\n",
    "'''\n",
    "\n",
    "wines_df = pd.read_sql_query(wines_query, conn)"
   ]
  },
  {
   "cell_type": "code",
   "execution_count": null,
   "id": "3984b717",
   "metadata": {},
   "outputs": [],
   "source": [
    "print(wines_df)"
   ]
  },
  {
   "cell_type": "code",
   "execution_count": null,
   "id": "6809c126",
   "metadata": {},
   "outputs": [],
   "source": [
    "fig = px.bar(wines_df,\n",
    "            x = 'product_name',\n",
    "            y = 'total_sales',\n",
    "            template=plotly_template,\n",
    "            text = 'total_sales')\n",
    "fig.update_traces(marker_color='#928DAB')\n",
    "\n",
    "fig.add_trace(\n",
    "    go.Bar(\n",
    "        x=wines_df['product_name'],\n",
    "        y=wines_df['quantity_sold'],\n",
    "        name='Cantidad Vendida',\n",
    "        text=wines_df['quantity_sold'],\n",
    "        textposition='auto',\n",
    "        marker=dict(color='#F45C43')\n",
    "    )\n",
    ")\n",
    "\n",
    "fig.update_layout(\n",
    "    title='Top 10 Vinos Vendidos & Cantidad',\n",
    "    xaxis_title='Vino',\n",
    "    yaxis_title='Ventas Total / Cantidad Vendido',\n",
    "    barmode='group',\n",
    "    margin=dict(t=55, l=95, r=200, b=150),\n",
    "    legend_title='Data Series',\n",
    ")\n",
    "\n",
    "\n",
    "\n",
    "\n",
    "fig.show()\n",
    "\n",
    "fig.write_image(drinks_output_dir / 'Wines_Monthly_Sales.png',\n",
    "               width=1200,\n",
    "               height=800,\n",
    "               scale=4)"
   ]
  },
  {
   "cell_type": "code",
   "execution_count": null,
   "id": "6db78097",
   "metadata": {},
   "outputs": [],
   "source": [
    "expenses_dir = Path(__file__).parent if \"__file__\" in locals() else Path.cwd()\n",
    "expenses_path = expenses_dir / \"March_Expenses.db\"\n",
    "expenses_output_dir = expenses_dir / \"output_march\"\n",
    "\n",
    "\n",
    "expenses_output_dir.mkdir(parents=True, exist_ok=True)"
   ]
  },
  {
   "cell_type": "code",
   "execution_count": null,
   "id": "3d37f5f6",
   "metadata": {},
   "outputs": [],
   "source": [
    "conn = sqlite3.connect(expenses_path)"
   ]
  },
  {
   "cell_type": "code",
   "execution_count": null,
   "id": "80ba756d",
   "metadata": {},
   "outputs": [],
   "source": [
    "import matplotlib.pyplot as plt"
   ]
  },
  {
   "cell_type": "code",
   "execution_count": null,
   "id": "6110bcb5",
   "metadata": {},
   "outputs": [],
   "source": [
    "# drinks_query = '''\n",
    "# SELECT product_name, SUM(total_price) as total_sales\n",
    "# FROM sales\n",
    "# GROUP BY product_name\n",
    "# ORDER BY total_sales DESC\n",
    "# LIMIT 10\n",
    "# '''\n",
    "\n",
    "# drinks_df = pd.read_sql_query(drinks_query, conn)\n",
    "\n",
    "expenses_query = '''\n",
    "SELECT category, SUM(amount) as total_spent\n",
    "FROM expenses\n",
    "GROUP BY category\n",
    "ORDER BY total_spent DESC\n",
    "'''\n",
    "\n",
    "expenses_df = pd.read_sql_query(expenses_query, conn)\n"
   ]
  },
  {
   "cell_type": "code",
   "execution_count": null,
   "id": "9656b6ba",
   "metadata": {},
   "outputs": [],
   "source": [
    "print(expenses_df)"
   ]
  },
  {
   "cell_type": "code",
   "execution_count": null,
   "id": "1559be49",
   "metadata": {},
   "outputs": [],
   "source": [
    "sheet_name = 'Expenses_March'\n",
    "\n",
    "df = pd.read_excel('ReporteVentas.xlsx', sheet_name=sheet_name)\n",
    "\n",
    "category_totals = df.groupby('Category')['Amount'].sum()\n",
    "\n",
    "# category_totals_pie = category_totals[category_totals.index != 'Sueldos']  # Excluding Sueldos from Pie\n",
    "category_totals_pie = category_totals.loc[~category_totals.index.isin(['Sueldos', 'Renta', 'Salsas'])]\n",
    "\n",
    "\n",
    "total_sum = category_totals.sum()\n",
    "\n",
    "fig, ax = plt.subplots(figsize=(12, 10))\n",
    "\n",
    "\n",
    "plt.pie(category_totals_pie, \n",
    "        labels=category_totals_pie.index,\n",
    "         labeldistance=1.05, # increase the distance of labels from the center\n",
    "        pctdistance=.7,\n",
    "       autopct='%1.1f%%',\n",
    "#        center=(-2, 0)\n",
    "       )\n",
    "    \n",
    "    \n",
    "\n",
    "plt.title('Gastos Del Mes', fontsize=14, fontweight='bold')\n",
    "\n",
    "\n",
    "table_data = category_totals.reset_index().values.tolist()  # category_totals converts to a list\n",
    "table_data.append(['Total', round(total_sum,2)])\n",
    "table_data.sort(key=lambda x: x[1], reverse=True)\n",
    "col_labels = ['Category', 'Amount'] # \n",
    "table_data.insert(0, col_labels) # Inserting the col_lables variable in the first row\n",
    "cell_text = [] # empty list to store the text in each cell\n",
    "\n",
    "total_row = [row for row in table_data if row[0] == 'Total'][0]\n",
    "table_data.remove(total_row)\n",
    "table_data.append(total_row)\n",
    "\n",
    "for row in table_data:\n",
    "    cell_text.append([str(x) for x in row]) # displaying all cells as strings because of matplotlib\n",
    "    \n",
    "table = ax.table(cellText=cell_text, loc='bottom', bbox=[0, 1.1, 1, .6]) # creating the table and displaying\n",
    "\n",
    "#properties of table cells\n",
    "for i in range(len(col_labels)):\n",
    "    table[0, i].set_text_props(weight='bold', color='w')\n",
    "    table[0, i].set_facecolor('green')\n",
    "    table[19, i].set_facecolor('yellow')\n",
    "\n",
    "\n",
    "plt.show()\n",
    "\n",
    "fig.savefig(expenses_output_dir / 'Expenses.png' , dpi=300, bbox_inches='tight')"
   ]
  },
  {
   "cell_type": "markdown",
   "id": "a660f46a",
   "metadata": {},
   "source": [
    "# Creating the PDF Report"
   ]
  },
  {
   "cell_type": "code",
   "execution_count": null,
   "id": "5583d5e3",
   "metadata": {},
   "outputs": [],
   "source": [
    "font_color = (64, 64, 64)\n",
    "\n",
    "#all PNG files in the output folder\n",
    "chart_filenames = [str(chart_path) for chart_path in output_dir.glob(\"*.png\")]\n",
    "\n",
    "# Creating a PDF document and set the page size\n",
    "pdf=FPDF()\n",
    "pdf.add_page()\n",
    "pdf.set_font('Arial', 'B', 24)\n",
    "\n",
    "#the overall page title\n",
    "title= f\"Reporte De Ventas De Marzo 2023\"\n",
    "pdf.set_text_color(*font_color)\n",
    "pdf.cell(0, 20, title, align='C', ln=1)\n",
    "\n",
    "\n",
    "chart_order = ['kpi.png', 'Comparing.png', 'monthly_sales.png', 'drinks_monthly_sales.png', 'wines_monthly_sales.png', 'clients.png' , 'expenses.png']\n",
    "\n",
    "# Adding each chart to the PDF document\n",
    "for chart_filename in chart_order:\n",
    "    chart_path = output_dir / chart_filename\n",
    "    if chart_path.exists():\n",
    "        pdf.ln(10) # Add padding at the top of the next chart\n",
    "        pdf.image(str(chart_path), x=None, y=None, w=pdf.w - 20, h=0)\n",
    "    \n",
    "# Save the PDf document to a file on disk\n",
    "pdf.output(output_dir / \"Marzo_Reporte.pdf\", \"F\")"
   ]
  },
  {
   "cell_type": "markdown",
   "id": "95e5ec8c",
   "metadata": {},
   "source": [
    "# KPI METRICS"
   ]
  },
  {
   "cell_type": "code",
   "execution_count": null,
   "id": "bb9fde6c",
   "metadata": {},
   "outputs": [],
   "source": [
    "kpi_dir = Path(__file__).parent if \"__file__\" in locals() else Path.cwd()\n",
    "kpi_path = expenses_dir / \"March_kpi.db\"\n",
    "kpi_output_dir = expenses_dir / \"output_march\"\n",
    "\n",
    "kpi_output_dir.mkdir(parents=True, exist_ok=True)"
   ]
  },
  {
   "cell_type": "code",
   "execution_count": null,
   "id": "45c7a829",
   "metadata": {},
   "outputs": [],
   "source": [
    "conn = sqlite3.connect(kpi_path)"
   ]
  },
  {
   "cell_type": "code",
   "execution_count": null,
   "id": "70d2b1ec",
   "metadata": {},
   "outputs": [],
   "source": [
    "import pandas as pd\n",
    "import matplotlib.pyplot as plt\n",
    "\n",
    "# Read the Excel file\n",
    "df = pd.read_excel('metrics.xlsx', sheet_name='Sheet5')\n",
    "\n",
    "df['Diferencia'] = df['Diferencia'].apply(lambda x: '${:.2f}'.format(x))\n",
    "df['Cantidad'] = df['Cantidad'].apply(lambda x: '${}'.format(x))\n",
    "df['% Diferencia'] = df['% Diferencia'].apply(lambda x: '%{:.2f}'.format(x))\n",
    "\n",
    "# Create a figure and axes object\n",
    "fig2, ax = plt.subplots(figsize=(10, 8))\n",
    "\n",
    "# Convert the dataframe to a list of lists\n",
    "data = df.values.tolist()\n",
    "\n",
    "# Add column headers to the first row of data\n",
    "headers = df.columns.tolist()\n",
    "headers[0] = ''\n",
    "data.insert(0, headers)\n",
    "\n",
    "# Create the table and add it to the axes\n",
    "table = ax.table(cellText=data, loc='center', bbox=[0, 1, 1, .6])\n",
    "table.set_fontsize(14)\n",
    "# Hide the axis labels and ticks\n",
    "ax.axis('off')\n",
    "\n",
    "\n",
    "# Set properties of table cells\n",
    "for i in range(len(col_labels)):\n",
    "    table[0, i].set_text_props(weight='bold', color='w')\n",
    "    table[0, 2].set_text_props(weight='bold', color='w')\n",
    "    table[0, 3].set_text_props(weight='bold', color='w')\n",
    "    table[0, i].set_facecolor('green')\n",
    "    table[0, 2].set_facecolor('green')\n",
    "    table[0, 3].set_facecolor('green')\n",
    "    table[1, 2].set_text_props(weight='bold', color='r')\n",
    "    table[1, 3].set_text_props(weight='bold', color='r')\n",
    "    table[7, 2].set_text_props(weight='bold', color='r')\n",
    "    table[7, 3].set_text_props(weight='bold', color='r')\n",
    "    table[5, 2].set_text_props(weight='bold', color='r')\n",
    "    table[5, 3].set_text_props(weight='bold', color='r')\n",
    "    table[6, 3].set_text_props(weight='bold', color='r')\n",
    "    table[6, 2].set_text_props(weight='bold', color='r')\n",
    "\n",
    "# ax.set_title(\"KPI To demonstrate progress compared to last year\")\n",
    "\n",
    "ax.text(0.5, 1.7, 'KPI para demostrar el progreso en comparación con el año pasado', fontsize=18, ha='center', va='center')\n",
    "\n",
    "# Display the plot\n",
    "plt.show()\n",
    "\n",
    "fig2.tight_layout()\n",
    "\n",
    "fig2.savefig(kpi_output_dir / 'kpi.png' , dpi=300, bbox_inches='tight')"
   ]
  },
  {
   "cell_type": "code",
   "execution_count": null,
   "id": "d45db985",
   "metadata": {},
   "outputs": [],
   "source": [
    "client_dir = Path(__file__).parent if \"__file__\" in locals() else Path.cwd()\n",
    "client_path = client_dir / \"March_client.db\"\n",
    "client_output_dir = client_dir / \"output_march\"\n",
    "\n",
    "client_output_dir.mkdir(parents=True, exist_ok=True)"
   ]
  },
  {
   "cell_type": "code",
   "execution_count": null,
   "id": "4135e45d",
   "metadata": {},
   "outputs": [],
   "source": [
    "conn = sqlite3.connect(client_path)"
   ]
  },
  {
   "cell_type": "code",
   "execution_count": null,
   "id": "c57aa6b6",
   "metadata": {},
   "outputs": [],
   "source": [
    "import pandas as pd\n",
    "import matplotlib.pyplot as plt\n",
    "\n",
    "df = pd.read_excel('metrics.xlsx', sheet_name='Sheet6')\n",
    "\n",
    "fig4, ax = plt.subplots(figsize=(12,12))\n",
    "\n",
    "# Converting the dataframe to a list of lists\n",
    "data = df.values.tolist()\n",
    "\n",
    "# Adding column headers to the first row of data\n",
    "headers = df.columns.tolist()\n",
    "data.insert(0, headers)\n",
    "\n",
    "table = ax.table(cellText=data, loc='center', bbox=[0, 1, 1, .6])\n",
    "table.set_fontsize(12)\n",
    "\n",
    "\n",
    "for i in range(len(col_labels)):\n",
    "    table[0, i].set_text_props(weight='bold', color='w')\n",
    "    table[0, i].set_facecolor('green')\n",
    "    \n",
    "\n",
    "# Hiding the axis labels and ticks\n",
    "ax.axis('off')\n",
    "\n",
    "ax.text(0.5, 1.7, 'Top 10 Consumidores del Mes', fontsize=18, ha='center', va='center')\n",
    "\n",
    "plt.show()\n",
    "\n",
    "fig4.tight_layout()\n",
    "\n",
    "fig4.savefig(kpi_output_dir / 'clients.png' , dpi=300, bbox_inches='tight')"
   ]
  }
 ],
 "metadata": {
  "kernelspec": {
   "display_name": "Python 3",
   "language": "python",
   "name": "python3"
  },
  "language_info": {
   "codemirror_mode": {
    "name": "ipython",
    "version": 3
   },
   "file_extension": ".py",
   "mimetype": "text/x-python",
   "name": "python",
   "nbconvert_exporter": "python",
   "pygments_lexer": "ipython3",
   "version": "3.9.5"
  }
 },
 "nbformat": 4,
 "nbformat_minor": 5
}
